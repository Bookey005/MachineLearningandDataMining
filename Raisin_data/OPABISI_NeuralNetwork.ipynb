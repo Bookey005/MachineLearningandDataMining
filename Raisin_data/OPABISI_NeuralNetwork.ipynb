{
 "cells": [
  {
   "cell_type": "code",
   "execution_count": 1,
   "id": "c1ef384d",
   "metadata": {},
   "outputs": [
    {
     "name": "stdout",
     "output_type": "stream",
     "text": [
      "Requirement already satisfied: tensorflow in c:\\users\\hp\\anaconda3\\lib\\site-packages (2.10.0)\n",
      "Requirement already satisfied: keras-preprocessing>=1.1.1 in c:\\users\\hp\\anaconda3\\lib\\site-packages (from tensorflow) (1.1.2)\n",
      "Requirement already satisfied: termcolor>=1.1.0 in c:\\users\\hp\\anaconda3\\lib\\site-packages (from tensorflow) (2.1.0)\n",
      "Requirement already satisfied: protobuf<3.20,>=3.9.2 in c:\\users\\hp\\anaconda3\\lib\\site-packages (from tensorflow) (3.19.1)\n",
      "Requirement already satisfied: gast<=0.4.0,>=0.2.1 in c:\\users\\hp\\anaconda3\\lib\\site-packages (from tensorflow) (0.4.0)\n",
      "Requirement already satisfied: astunparse>=1.6.0 in c:\\users\\hp\\anaconda3\\lib\\site-packages (from tensorflow) (1.6.3)\n",
      "Requirement already satisfied: setuptools in c:\\users\\hp\\anaconda3\\lib\\site-packages (from tensorflow) (61.2.0)\n",
      "Requirement already satisfied: opt-einsum>=2.3.2 in c:\\users\\hp\\anaconda3\\lib\\site-packages (from tensorflow) (3.3.0)\n",
      "Requirement already satisfied: packaging in c:\\users\\hp\\anaconda3\\lib\\site-packages (from tensorflow) (21.3)\n",
      "Requirement already satisfied: libclang>=13.0.0 in c:\\users\\hp\\anaconda3\\lib\\site-packages (from tensorflow) (14.0.6)\n",
      "Requirement already satisfied: absl-py>=1.0.0 in c:\\users\\hp\\anaconda3\\lib\\site-packages (from tensorflow) (1.3.0)\n",
      "Requirement already satisfied: keras<2.11,>=2.10.0 in c:\\users\\hp\\anaconda3\\lib\\site-packages (from tensorflow) (2.10.0)\n",
      "Requirement already satisfied: typing-extensions>=3.6.6 in c:\\users\\hp\\anaconda3\\lib\\site-packages (from tensorflow) (4.1.1)\n",
      "Requirement already satisfied: numpy>=1.20 in c:\\users\\hp\\anaconda3\\lib\\site-packages (from tensorflow) (1.21.5)\n",
      "Requirement already satisfied: grpcio<2.0,>=1.24.3 in c:\\users\\hp\\anaconda3\\lib\\site-packages (from tensorflow) (1.42.0)\n",
      "Requirement already satisfied: flatbuffers>=2.0 in c:\\users\\hp\\anaconda3\\lib\\site-packages (from tensorflow) (22.10.26)\n",
      "Requirement already satisfied: tensorflow-estimator<2.11,>=2.10.0 in c:\\users\\hp\\anaconda3\\lib\\site-packages (from tensorflow) (2.10.0)\n",
      "Requirement already satisfied: wrapt>=1.11.0 in c:\\users\\hp\\anaconda3\\lib\\site-packages (from tensorflow) (1.12.1)\n",
      "Requirement already satisfied: google-pasta>=0.1.1 in c:\\users\\hp\\anaconda3\\lib\\site-packages (from tensorflow) (0.2.0)\n",
      "Requirement already satisfied: h5py>=2.9.0 in c:\\users\\hp\\anaconda3\\lib\\site-packages (from tensorflow) (3.6.0)\n",
      "Requirement already satisfied: tensorflow-io-gcs-filesystem>=0.23.1 in c:\\users\\hp\\anaconda3\\lib\\site-packages (from tensorflow) (0.27.0)\n",
      "Requirement already satisfied: tensorboard<2.11,>=2.10 in c:\\users\\hp\\anaconda3\\lib\\site-packages (from tensorflow) (2.10.1)\n",
      "Requirement already satisfied: six>=1.12.0 in c:\\users\\hp\\anaconda3\\lib\\site-packages (from tensorflow) (1.16.0)\n",
      "Requirement already satisfied: wheel<1.0,>=0.23.0 in c:\\users\\hp\\anaconda3\\lib\\site-packages (from astunparse>=1.6.0->tensorflow) (0.37.1)\n",
      "Requirement already satisfied: tensorboard-data-server<0.7.0,>=0.6.0 in c:\\users\\hp\\anaconda3\\lib\\site-packages (from tensorboard<2.11,>=2.10->tensorflow) (0.6.1)\n",
      "Requirement already satisfied: requests<3,>=2.21.0 in c:\\users\\hp\\anaconda3\\lib\\site-packages (from tensorboard<2.11,>=2.10->tensorflow) (2.27.1)\n",
      "Requirement already satisfied: tensorboard-plugin-wit>=1.6.0 in c:\\users\\hp\\anaconda3\\lib\\site-packages (from tensorboard<2.11,>=2.10->tensorflow) (1.8.1)\n",
      "Requirement already satisfied: markdown>=2.6.8 in c:\\users\\hp\\anaconda3\\lib\\site-packages (from tensorboard<2.11,>=2.10->tensorflow) (3.3.4)\n",
      "Requirement already satisfied: werkzeug>=1.0.1 in c:\\users\\hp\\anaconda3\\lib\\site-packages (from tensorboard<2.11,>=2.10->tensorflow) (2.0.3)\n",
      "Requirement already satisfied: google-auth<3,>=1.6.3 in c:\\users\\hp\\anaconda3\\lib\\site-packages (from tensorboard<2.11,>=2.10->tensorflow) (1.33.0)\n",
      "Requirement already satisfied: google-auth-oauthlib<0.5,>=0.4.1 in c:\\users\\hp\\anaconda3\\lib\\site-packages (from tensorboard<2.11,>=2.10->tensorflow) (0.4.6)\n",
      "Requirement already satisfied: rsa<5,>=3.1.4 in c:\\users\\hp\\anaconda3\\lib\\site-packages (from google-auth<3,>=1.6.3->tensorboard<2.11,>=2.10->tensorflow) (4.7.2)\n",
      "Requirement already satisfied: pyasn1-modules>=0.2.1 in c:\\users\\hp\\anaconda3\\lib\\site-packages (from google-auth<3,>=1.6.3->tensorboard<2.11,>=2.10->tensorflow) (0.2.8)\n",
      "Requirement already satisfied: cachetools<5.0,>=2.0.0 in c:\\users\\hp\\anaconda3\\lib\\site-packages (from google-auth<3,>=1.6.3->tensorboard<2.11,>=2.10->tensorflow) (4.2.2)\n",
      "Requirement already satisfied: requests-oauthlib>=0.7.0 in c:\\users\\hp\\anaconda3\\lib\\site-packages (from google-auth-oauthlib<0.5,>=0.4.1->tensorboard<2.11,>=2.10->tensorflow) (1.3.1)\n",
      "Requirement already satisfied: pyasn1<0.5.0,>=0.4.6 in c:\\users\\hp\\anaconda3\\lib\\site-packages (from pyasn1-modules>=0.2.1->google-auth<3,>=1.6.3->tensorboard<2.11,>=2.10->tensorflow) (0.4.8)\n",
      "Requirement already satisfied: idna<4,>=2.5 in c:\\users\\hp\\anaconda3\\lib\\site-packages (from requests<3,>=2.21.0->tensorboard<2.11,>=2.10->tensorflow) (3.3)\n",
      "Requirement already satisfied: charset-normalizer~=2.0.0 in c:\\users\\hp\\anaconda3\\lib\\site-packages (from requests<3,>=2.21.0->tensorboard<2.11,>=2.10->tensorflow) (2.0.4)\n",
      "Requirement already satisfied: urllib3<1.27,>=1.21.1 in c:\\users\\hp\\anaconda3\\lib\\site-packages (from requests<3,>=2.21.0->tensorboard<2.11,>=2.10->tensorflow) (1.26.9)\n",
      "Requirement already satisfied: certifi>=2017.4.17 in c:\\users\\hp\\anaconda3\\lib\\site-packages (from requests<3,>=2.21.0->tensorboard<2.11,>=2.10->tensorflow) (2021.10.8)\n",
      "Requirement already satisfied: oauthlib>=3.0.0 in c:\\users\\hp\\anaconda3\\lib\\site-packages (from requests-oauthlib>=0.7.0->google-auth-oauthlib<0.5,>=0.4.1->tensorboard<2.11,>=2.10->tensorflow) (3.2.2)\n"
     ]
    }
   ],
   "source": [
    "!pip install tensorflow"
   ]
  },
  {
   "cell_type": "code",
   "execution_count": 2,
   "id": "a8500ead",
   "metadata": {},
   "outputs": [
    {
     "name": "stdout",
     "output_type": "stream",
     "text": [
      "Requirement already satisfied: pyparsing!=3.0.5,>=2.0.2 in c:\\users\\hp\\anaconda3\\lib\\site-packages (from packaging->tensorflow) (3.0.4)\n"
     ]
    }
   ],
   "source": [
    "# Importing libraries\n",
    "import numpy as np\n",
    "import pandas as pd\n",
    "import matplotlib.pyplot as plt\n",
    "import tensorflow as tf\n",
    "import seaborn as sns\n",
    "from sklearn.preprocessing import StandardScaler\n",
    "from sklearn.preprocessing import LabelEncoder\n",
    "from sklearn.model_selection import train_test_split\n",
    "from tensorflow.keras.models import Sequential\n",
    "from tensorflow.keras.layers import Dense"
   ]
  },
  {
   "cell_type": "code",
   "execution_count": 3,
   "id": "cab73c04",
   "metadata": {},
   "outputs": [],
   "source": [
    "# Importing the dataset\n",
    "Raisin_Dataset = pd.read_csv('Raisin_Dataset.csv')"
   ]
  },
  {
   "cell_type": "code",
   "execution_count": 4,
   "id": "8d822fb5",
   "metadata": {},
   "outputs": [
    {
     "data": {
      "text/plain": [
       "(900, 8)"
      ]
     },
     "execution_count": 4,
     "metadata": {},
     "output_type": "execute_result"
    }
   ],
   "source": [
    "# return a tuple containing the number of rows and columns of the DataFrame\n",
    "Raisin_Dataset.shape"
   ]
  },
  {
   "cell_type": "code",
   "execution_count": 5,
   "id": "0e99860a",
   "metadata": {},
   "outputs": [
    {
     "data": {
      "text/html": [
       "<div>\n",
       "<style scoped>\n",
       "    .dataframe tbody tr th:only-of-type {\n",
       "        vertical-align: middle;\n",
       "    }\n",
       "\n",
       "    .dataframe tbody tr th {\n",
       "        vertical-align: top;\n",
       "    }\n",
       "\n",
       "    .dataframe thead th {\n",
       "        text-align: right;\n",
       "    }\n",
       "</style>\n",
       "<table border=\"1\" class=\"dataframe\">\n",
       "  <thead>\n",
       "    <tr style=\"text-align: right;\">\n",
       "      <th></th>\n",
       "      <th>Area</th>\n",
       "      <th>MajorAxisLength</th>\n",
       "      <th>MinorAxisLength</th>\n",
       "      <th>Eccentricity</th>\n",
       "      <th>ConvexArea</th>\n",
       "      <th>Extent</th>\n",
       "      <th>Perimeter</th>\n",
       "      <th>Class</th>\n",
       "    </tr>\n",
       "  </thead>\n",
       "  <tbody>\n",
       "    <tr>\n",
       "      <th>0</th>\n",
       "      <td>87524</td>\n",
       "      <td>442.246011</td>\n",
       "      <td>253.291155</td>\n",
       "      <td>0.819738</td>\n",
       "      <td>90546</td>\n",
       "      <td>0.758651</td>\n",
       "      <td>1184.040</td>\n",
       "      <td>Kecimen</td>\n",
       "    </tr>\n",
       "    <tr>\n",
       "      <th>1</th>\n",
       "      <td>75166</td>\n",
       "      <td>406.690687</td>\n",
       "      <td>243.032436</td>\n",
       "      <td>0.801805</td>\n",
       "      <td>78789</td>\n",
       "      <td>0.684130</td>\n",
       "      <td>1121.786</td>\n",
       "      <td>Kecimen</td>\n",
       "    </tr>\n",
       "    <tr>\n",
       "      <th>2</th>\n",
       "      <td>90856</td>\n",
       "      <td>442.267048</td>\n",
       "      <td>266.328318</td>\n",
       "      <td>0.798354</td>\n",
       "      <td>93717</td>\n",
       "      <td>0.637613</td>\n",
       "      <td>1208.575</td>\n",
       "      <td>Kecimen</td>\n",
       "    </tr>\n",
       "    <tr>\n",
       "      <th>3</th>\n",
       "      <td>45928</td>\n",
       "      <td>286.540559</td>\n",
       "      <td>208.760042</td>\n",
       "      <td>0.684989</td>\n",
       "      <td>47336</td>\n",
       "      <td>0.699599</td>\n",
       "      <td>844.162</td>\n",
       "      <td>Kecimen</td>\n",
       "    </tr>\n",
       "    <tr>\n",
       "      <th>4</th>\n",
       "      <td>79408</td>\n",
       "      <td>352.190770</td>\n",
       "      <td>290.827533</td>\n",
       "      <td>0.564011</td>\n",
       "      <td>81463</td>\n",
       "      <td>0.792772</td>\n",
       "      <td>1073.251</td>\n",
       "      <td>Kecimen</td>\n",
       "    </tr>\n",
       "  </tbody>\n",
       "</table>\n",
       "</div>"
      ],
      "text/plain": [
       "    Area  MajorAxisLength  MinorAxisLength  Eccentricity  ConvexArea  \\\n",
       "0  87524       442.246011       253.291155      0.819738       90546   \n",
       "1  75166       406.690687       243.032436      0.801805       78789   \n",
       "2  90856       442.267048       266.328318      0.798354       93717   \n",
       "3  45928       286.540559       208.760042      0.684989       47336   \n",
       "4  79408       352.190770       290.827533      0.564011       81463   \n",
       "\n",
       "     Extent  Perimeter    Class  \n",
       "0  0.758651   1184.040  Kecimen  \n",
       "1  0.684130   1121.786  Kecimen  \n",
       "2  0.637613   1208.575  Kecimen  \n",
       "3  0.699599    844.162  Kecimen  \n",
       "4  0.792772   1073.251  Kecimen  "
      ]
     },
     "execution_count": 5,
     "metadata": {},
     "output_type": "execute_result"
    }
   ],
   "source": [
    "# return first sets of datasets content\n",
    "Raisin_Dataset.head()"
   ]
  },
  {
   "cell_type": "code",
   "execution_count": 6,
   "id": "b7ae3cae",
   "metadata": {},
   "outputs": [
    {
     "data": {
      "text/html": [
       "<div>\n",
       "<style scoped>\n",
       "    .dataframe tbody tr th:only-of-type {\n",
       "        vertical-align: middle;\n",
       "    }\n",
       "\n",
       "    .dataframe tbody tr th {\n",
       "        vertical-align: top;\n",
       "    }\n",
       "\n",
       "    .dataframe thead th {\n",
       "        text-align: right;\n",
       "    }\n",
       "</style>\n",
       "<table border=\"1\" class=\"dataframe\">\n",
       "  <thead>\n",
       "    <tr style=\"text-align: right;\">\n",
       "      <th></th>\n",
       "      <th>Area</th>\n",
       "      <th>MajorAxisLength</th>\n",
       "      <th>MinorAxisLength</th>\n",
       "      <th>Eccentricity</th>\n",
       "      <th>ConvexArea</th>\n",
       "      <th>Extent</th>\n",
       "      <th>Perimeter</th>\n",
       "      <th>Class</th>\n",
       "    </tr>\n",
       "  </thead>\n",
       "  <tbody>\n",
       "    <tr>\n",
       "      <th>895</th>\n",
       "      <td>83248</td>\n",
       "      <td>430.077308</td>\n",
       "      <td>247.838695</td>\n",
       "      <td>0.817263</td>\n",
       "      <td>85839</td>\n",
       "      <td>0.668793</td>\n",
       "      <td>1129.072</td>\n",
       "      <td>Besni</td>\n",
       "    </tr>\n",
       "    <tr>\n",
       "      <th>896</th>\n",
       "      <td>87350</td>\n",
       "      <td>440.735698</td>\n",
       "      <td>259.293149</td>\n",
       "      <td>0.808629</td>\n",
       "      <td>90899</td>\n",
       "      <td>0.636476</td>\n",
       "      <td>1214.252</td>\n",
       "      <td>Besni</td>\n",
       "    </tr>\n",
       "    <tr>\n",
       "      <th>897</th>\n",
       "      <td>99657</td>\n",
       "      <td>431.706981</td>\n",
       "      <td>298.837323</td>\n",
       "      <td>0.721684</td>\n",
       "      <td>106264</td>\n",
       "      <td>0.741099</td>\n",
       "      <td>1292.828</td>\n",
       "      <td>Besni</td>\n",
       "    </tr>\n",
       "    <tr>\n",
       "      <th>898</th>\n",
       "      <td>93523</td>\n",
       "      <td>476.344094</td>\n",
       "      <td>254.176054</td>\n",
       "      <td>0.845739</td>\n",
       "      <td>97653</td>\n",
       "      <td>0.658798</td>\n",
       "      <td>1258.548</td>\n",
       "      <td>Besni</td>\n",
       "    </tr>\n",
       "    <tr>\n",
       "      <th>899</th>\n",
       "      <td>85609</td>\n",
       "      <td>512.081774</td>\n",
       "      <td>215.271976</td>\n",
       "      <td>0.907345</td>\n",
       "      <td>89197</td>\n",
       "      <td>0.632020</td>\n",
       "      <td>1272.862</td>\n",
       "      <td>Besni</td>\n",
       "    </tr>\n",
       "  </tbody>\n",
       "</table>\n",
       "</div>"
      ],
      "text/plain": [
       "      Area  MajorAxisLength  MinorAxisLength  Eccentricity  ConvexArea  \\\n",
       "895  83248       430.077308       247.838695      0.817263       85839   \n",
       "896  87350       440.735698       259.293149      0.808629       90899   \n",
       "897  99657       431.706981       298.837323      0.721684      106264   \n",
       "898  93523       476.344094       254.176054      0.845739       97653   \n",
       "899  85609       512.081774       215.271976      0.907345       89197   \n",
       "\n",
       "       Extent  Perimeter  Class  \n",
       "895  0.668793   1129.072  Besni  \n",
       "896  0.636476   1214.252  Besni  \n",
       "897  0.741099   1292.828  Besni  \n",
       "898  0.658798   1258.548  Besni  \n",
       "899  0.632020   1272.862  Besni  "
      ]
     },
     "execution_count": 6,
     "metadata": {},
     "output_type": "execute_result"
    }
   ],
   "source": [
    "# return last sets of datasets content\n",
    "Raisin_Dataset.tail()"
   ]
  },
  {
   "cell_type": "code",
   "execution_count": 7,
   "id": "e10529fa",
   "metadata": {},
   "outputs": [
    {
     "data": {
      "text/html": [
       "<div>\n",
       "<style scoped>\n",
       "    .dataframe tbody tr th:only-of-type {\n",
       "        vertical-align: middle;\n",
       "    }\n",
       "\n",
       "    .dataframe tbody tr th {\n",
       "        vertical-align: top;\n",
       "    }\n",
       "\n",
       "    .dataframe thead th {\n",
       "        text-align: right;\n",
       "    }\n",
       "</style>\n",
       "<table border=\"1\" class=\"dataframe\">\n",
       "  <thead>\n",
       "    <tr style=\"text-align: right;\">\n",
       "      <th></th>\n",
       "      <th>Area</th>\n",
       "      <th>MajorAxisLength</th>\n",
       "      <th>MinorAxisLength</th>\n",
       "      <th>Eccentricity</th>\n",
       "      <th>ConvexArea</th>\n",
       "      <th>Extent</th>\n",
       "      <th>Perimeter</th>\n",
       "    </tr>\n",
       "  </thead>\n",
       "  <tbody>\n",
       "    <tr>\n",
       "      <th>count</th>\n",
       "      <td>900.000000</td>\n",
       "      <td>900.000000</td>\n",
       "      <td>900.000000</td>\n",
       "      <td>900.000000</td>\n",
       "      <td>900.000000</td>\n",
       "      <td>900.000000</td>\n",
       "      <td>900.000000</td>\n",
       "    </tr>\n",
       "    <tr>\n",
       "      <th>mean</th>\n",
       "      <td>87804.127778</td>\n",
       "      <td>430.929950</td>\n",
       "      <td>254.488133</td>\n",
       "      <td>0.781542</td>\n",
       "      <td>91186.090000</td>\n",
       "      <td>0.699508</td>\n",
       "      <td>1165.906636</td>\n",
       "    </tr>\n",
       "    <tr>\n",
       "      <th>std</th>\n",
       "      <td>39002.111390</td>\n",
       "      <td>116.035121</td>\n",
       "      <td>49.988902</td>\n",
       "      <td>0.090318</td>\n",
       "      <td>40769.290132</td>\n",
       "      <td>0.053468</td>\n",
       "      <td>273.764315</td>\n",
       "    </tr>\n",
       "    <tr>\n",
       "      <th>min</th>\n",
       "      <td>25387.000000</td>\n",
       "      <td>225.629541</td>\n",
       "      <td>143.710872</td>\n",
       "      <td>0.348730</td>\n",
       "      <td>26139.000000</td>\n",
       "      <td>0.379856</td>\n",
       "      <td>619.074000</td>\n",
       "    </tr>\n",
       "    <tr>\n",
       "      <th>25%</th>\n",
       "      <td>59348.000000</td>\n",
       "      <td>345.442898</td>\n",
       "      <td>219.111126</td>\n",
       "      <td>0.741766</td>\n",
       "      <td>61513.250000</td>\n",
       "      <td>0.670869</td>\n",
       "      <td>966.410750</td>\n",
       "    </tr>\n",
       "    <tr>\n",
       "      <th>50%</th>\n",
       "      <td>78902.000000</td>\n",
       "      <td>407.803951</td>\n",
       "      <td>247.848409</td>\n",
       "      <td>0.798846</td>\n",
       "      <td>81651.000000</td>\n",
       "      <td>0.707367</td>\n",
       "      <td>1119.509000</td>\n",
       "    </tr>\n",
       "    <tr>\n",
       "      <th>75%</th>\n",
       "      <td>105028.250000</td>\n",
       "      <td>494.187014</td>\n",
       "      <td>279.888575</td>\n",
       "      <td>0.842571</td>\n",
       "      <td>108375.750000</td>\n",
       "      <td>0.734991</td>\n",
       "      <td>1308.389750</td>\n",
       "    </tr>\n",
       "    <tr>\n",
       "      <th>max</th>\n",
       "      <td>235047.000000</td>\n",
       "      <td>997.291941</td>\n",
       "      <td>492.275279</td>\n",
       "      <td>0.962124</td>\n",
       "      <td>278217.000000</td>\n",
       "      <td>0.835455</td>\n",
       "      <td>2697.753000</td>\n",
       "    </tr>\n",
       "  </tbody>\n",
       "</table>\n",
       "</div>"
      ],
      "text/plain": [
       "                Area  MajorAxisLength  MinorAxisLength  Eccentricity  \\\n",
       "count     900.000000       900.000000       900.000000    900.000000   \n",
       "mean    87804.127778       430.929950       254.488133      0.781542   \n",
       "std     39002.111390       116.035121        49.988902      0.090318   \n",
       "min     25387.000000       225.629541       143.710872      0.348730   \n",
       "25%     59348.000000       345.442898       219.111126      0.741766   \n",
       "50%     78902.000000       407.803951       247.848409      0.798846   \n",
       "75%    105028.250000       494.187014       279.888575      0.842571   \n",
       "max    235047.000000       997.291941       492.275279      0.962124   \n",
       "\n",
       "          ConvexArea      Extent    Perimeter  \n",
       "count     900.000000  900.000000   900.000000  \n",
       "mean    91186.090000    0.699508  1165.906636  \n",
       "std     40769.290132    0.053468   273.764315  \n",
       "min     26139.000000    0.379856   619.074000  \n",
       "25%     61513.250000    0.670869   966.410750  \n",
       "50%     81651.000000    0.707367  1119.509000  \n",
       "75%    108375.750000    0.734991  1308.389750  \n",
       "max    278217.000000    0.835455  2697.753000  "
      ]
     },
     "execution_count": 7,
     "metadata": {},
     "output_type": "execute_result"
    }
   ],
   "source": [
    "# perfomed descriptive statistical analysis on the dataset\n",
    "Raisin_Dataset.describe()"
   ]
  },
  {
   "cell_type": "code",
   "execution_count": 8,
   "id": "5f6f565d",
   "metadata": {},
   "outputs": [
    {
     "data": {
      "text/plain": [
       "Area               0\n",
       "MajorAxisLength    0\n",
       "MinorAxisLength    0\n",
       "Eccentricity       0\n",
       "ConvexArea         0\n",
       "Extent             0\n",
       "Perimeter          0\n",
       "Class              0\n",
       "dtype: int64"
      ]
     },
     "execution_count": 8,
     "metadata": {},
     "output_type": "execute_result"
    }
   ],
   "source": [
    "# check for missing values; output shows no missing values\n",
    "Raisin_Dataset.isnull().sum()"
   ]
  },
  {
   "cell_type": "code",
   "execution_count": 9,
   "id": "471e03bf",
   "metadata": {},
   "outputs": [
    {
     "name": "stdout",
     "output_type": "stream",
     "text": [
      "<class 'pandas.core.frame.DataFrame'>\n",
      "RangeIndex: 900 entries, 0 to 899\n",
      "Data columns (total 8 columns):\n",
      " #   Column           Non-Null Count  Dtype  \n",
      "---  ------           --------------  -----  \n",
      " 0   Area             900 non-null    int64  \n",
      " 1   MajorAxisLength  900 non-null    float64\n",
      " 2   MinorAxisLength  900 non-null    float64\n",
      " 3   Eccentricity     900 non-null    float64\n",
      " 4   ConvexArea       900 non-null    int64  \n",
      " 5   Extent           900 non-null    float64\n",
      " 6   Perimeter        900 non-null    float64\n",
      " 7   Class            900 non-null    object \n",
      "dtypes: float64(5), int64(2), object(1)\n",
      "memory usage: 56.4+ KB\n"
     ]
    }
   ],
   "source": [
    "# check for detailed summary information of the dataset\n",
    "Raisin_Dataset.info()"
   ]
  },
  {
   "cell_type": "code",
   "execution_count": 10,
   "id": "47518164",
   "metadata": {},
   "outputs": [
    {
     "data": {
      "text/plain": [
       "Kecimen    450\n",
       "Besni      450\n",
       "Name: Class, dtype: int64"
      ]
     },
     "execution_count": 10,
     "metadata": {},
     "output_type": "execute_result"
    }
   ],
   "source": [
    "#checking if the class is imbalance; output shows a balanced class of dataset\n",
    "Raisin_Dataset.Class.value_counts()"
   ]
  },
  {
   "cell_type": "code",
   "execution_count": 11,
   "id": "4061f5c6",
   "metadata": {},
   "outputs": [],
   "source": [
    "# Encoding the class data\n",
    "Raisin_Dataset[\"Class\"] = Raisin_Dataset[\"Class\"].replace([\"Kecimen\",\"Besni\"],[0,1],regex = True)"
   ]
  },
  {
   "cell_type": "code",
   "execution_count": 12,
   "id": "5f9a7cfe",
   "metadata": {},
   "outputs": [
    {
     "name": "stderr",
     "output_type": "stream",
     "text": [
      "C:\\Users\\HP\\anaconda3\\lib\\site-packages\\seaborn\\_decorators.py:36: FutureWarning: Pass the following variable as a keyword arg: x. From version 0.12, the only valid positional argument will be `data`, and passing other arguments without an explicit keyword will result in an error or misinterpretation.\n",
      "  warnings.warn(\n"
     ]
    },
    {
     "data": {
      "text/plain": [
       "<AxesSubplot:xlabel='Class', ylabel='count'>"
      ]
     },
     "execution_count": 12,
     "metadata": {},
     "output_type": "execute_result"
    },
    {
     "data": {
      "image/png": "[encoded data removed]",
      "text/plain": [
       "<Figure size 432x288 with 1 Axes>"
      ]
     },
     "metadata": {
      "needs_background": "light"
     },
     "output_type": "display_data"
    }
   ],
   "source": [
    "# visualing the class balance\n",
    "sns.countplot(Raisin_Dataset[\"Class\"])"
   ]
  },
  {
   "cell_type": "code",
   "execution_count": 13,
   "id": "50374372",
   "metadata": {},
   "outputs": [],
   "source": [
    "# Training the Dataset\n",
    "X = Raisin_Dataset.iloc[:,0:7]\n",
    "y = Raisin_Dataset.iloc[:,7]"
   ]
  },
  {
   "cell_type": "code",
   "execution_count": 14,
   "id": "6324451f",
   "metadata": {},
   "outputs": [],
   "source": [
    "X_train, X_test, y_train, y_test = train_test_split(X, y, test_size =\n",
    "0.2, stratify=y, random_state=0)"
   ]
  },
  {
   "cell_type": "code",
   "execution_count": 15,
   "id": "b0633cb9",
   "metadata": {},
   "outputs": [
    {
     "name": "stdout",
     "output_type": "stream",
     "text": [
      "(720, 7)\n"
     ]
    }
   ],
   "source": [
    "#identify input shape\n",
    "print(X_train.shape)"
   ]
  },
  {
   "cell_type": "code",
   "execution_count": 16,
   "id": "1316e236",
   "metadata": {},
   "outputs": [
    {
     "name": "stdout",
     "output_type": "stream",
     "text": [
      "0 low-variance features removed, 7 features remain\n"
     ]
    }
   ],
   "source": [
    "# Applying feature selection to removes all low-variance features in the dataset; vs means variance selector\n",
    "from sklearn.feature_selection import VarianceThreshold as VT\n",
    "vs = VT(threshold=0)\n",
    "X_train_fs = vs.fit_transform(X_train)\n",
    "X_test_fs = vs.transform(X_test)\n",
    "print(f\"{X_train.shape[1]-X_train_fs.shape[1]} low-variance features removed, {X_train_fs.shape[1]} features remain\")"
   ]
  },
  {
   "cell_type": "code",
   "execution_count": 17,
   "id": "d4871f74",
   "metadata": {},
   "outputs": [],
   "source": [
    "# Feature scaling\n",
    "scaler = StandardScaler()\n",
    "X_train = scaler.fit_transform(X_train)\n",
    "X_test = scaler.transform(X_test)"
   ]
  },
  {
   "cell_type": "code",
   "execution_count": 18,
   "id": "90ecaa6f",
   "metadata": {},
   "outputs": [],
   "source": [
    "# setting up keras model\n",
    "model = tf.keras.models.Sequential()\n",
    "model.add(tf.keras.layers.Dense(5,activation='relu',input_shape=(7,)))\n",
    "model.add(tf.keras.layers.Dense(2,activation='softmax'))"
   ]
  },
  {
   "cell_type": "code",
   "execution_count": 19,
   "id": "0fac4a5d",
   "metadata": {},
   "outputs": [],
   "source": [
    "#Model compilation\n",
    "model.compile(optimizer='adam',\n",
    " loss='sparse_categorical_crossentropy',\n",
    " metrics='accuracy')"
   ]
  },
  {
   "cell_type": "code",
   "execution_count": 20,
   "id": "a32cd6e1",
   "metadata": {},
   "outputs": [
    {
     "name": "stdout",
     "output_type": "stream",
     "text": [
      "Epoch 1/50\n",
      "72/72 - 2s - loss: 0.8102 - accuracy: 0.2274 - val_loss: 0.7239 - val_accuracy: 0.3403 - 2s/epoch - 24ms/step\n",
      "Epoch 2/50\n",
      "72/72 - 0s - loss: 0.6586 - accuracy: 0.5538 - val_loss: 0.6120 - val_accuracy: 0.7222 - 207ms/epoch - 3ms/step\n",
      "Epoch 3/50\n",
      "72/72 - 0s - loss: 0.5671 - accuracy: 0.7934 - val_loss: 0.5254 - val_accuracy: 0.8125 - 211ms/epoch - 3ms/step\n",
      "Epoch 4/50\n",
      "72/72 - 0s - loss: 0.4886 - accuracy: 0.8542 - val_loss: 0.4505 - val_accuracy: 0.8542 - 201ms/epoch - 3ms/step\n",
      "Epoch 5/50\n",
      "72/72 - 0s - loss: 0.4278 - accuracy: 0.8611 - val_loss: 0.3995 - val_accuracy: 0.8750 - 218ms/epoch - 3ms/step\n",
      "Epoch 6/50\n",
      "72/72 - 0s - loss: 0.3903 - accuracy: 0.8663 - val_loss: 0.3701 - val_accuracy: 0.8750 - 215ms/epoch - 3ms/step\n",
      "Epoch 7/50\n",
      "72/72 - 0s - loss: 0.3701 - accuracy: 0.8663 - val_loss: 0.3541 - val_accuracy: 0.8819 - 200ms/epoch - 3ms/step\n",
      "Epoch 8/50\n",
      "72/72 - 0s - loss: 0.3593 - accuracy: 0.8663 - val_loss: 0.3438 - val_accuracy: 0.8750 - 215ms/epoch - 3ms/step\n",
      "Epoch 9/50\n",
      "72/72 - 0s - loss: 0.3532 - accuracy: 0.8698 - val_loss: 0.3366 - val_accuracy: 0.8750 - 210ms/epoch - 3ms/step\n",
      "Epoch 10/50\n",
      "72/72 - 0s - loss: 0.3496 - accuracy: 0.8698 - val_loss: 0.3327 - val_accuracy: 0.8750 - 194ms/epoch - 3ms/step\n",
      "Epoch 11/50\n",
      "72/72 - 0s - loss: 0.3473 - accuracy: 0.8715 - val_loss: 0.3286 - val_accuracy: 0.8750 - 194ms/epoch - 3ms/step\n",
      "Epoch 12/50\n",
      "72/72 - 0s - loss: 0.3458 - accuracy: 0.8733 - val_loss: 0.3288 - val_accuracy: 0.8681 - 192ms/epoch - 3ms/step\n",
      "Epoch 13/50\n",
      "72/72 - 0s - loss: 0.3445 - accuracy: 0.8698 - val_loss: 0.3261 - val_accuracy: 0.8681 - 194ms/epoch - 3ms/step\n",
      "Epoch 14/50\n",
      "72/72 - 0s - loss: 0.3431 - accuracy: 0.8698 - val_loss: 0.3244 - val_accuracy: 0.8750 - 185ms/epoch - 3ms/step\n",
      "Epoch 15/50\n",
      "72/72 - 0s - loss: 0.3426 - accuracy: 0.8681 - val_loss: 0.3230 - val_accuracy: 0.8750 - 206ms/epoch - 3ms/step\n",
      "Epoch 16/50\n",
      "72/72 - 0s - loss: 0.3417 - accuracy: 0.8698 - val_loss: 0.3227 - val_accuracy: 0.8681 - 201ms/epoch - 3ms/step\n",
      "Epoch 17/50\n",
      "72/72 - 0s - loss: 0.3410 - accuracy: 0.8698 - val_loss: 0.3220 - val_accuracy: 0.8681 - 202ms/epoch - 3ms/step\n",
      "Epoch 18/50\n",
      "72/72 - 0s - loss: 0.3406 - accuracy: 0.8698 - val_loss: 0.3217 - val_accuracy: 0.8681 - 207ms/epoch - 3ms/step\n",
      "Epoch 19/50\n",
      "72/72 - 0s - loss: 0.3406 - accuracy: 0.8698 - val_loss: 0.3197 - val_accuracy: 0.8750 - 216ms/epoch - 3ms/step\n",
      "Epoch 20/50\n",
      "72/72 - 0s - loss: 0.3399 - accuracy: 0.8681 - val_loss: 0.3202 - val_accuracy: 0.8750 - 187ms/epoch - 3ms/step\n",
      "Epoch 21/50\n",
      "72/72 - 0s - loss: 0.3396 - accuracy: 0.8698 - val_loss: 0.3200 - val_accuracy: 0.8750 - 179ms/epoch - 2ms/step\n",
      "Epoch 22/50\n",
      "72/72 - 0s - loss: 0.3394 - accuracy: 0.8698 - val_loss: 0.3195 - val_accuracy: 0.8681 - 169ms/epoch - 2ms/step\n",
      "Epoch 23/50\n",
      "72/72 - 0s - loss: 0.3393 - accuracy: 0.8698 - val_loss: 0.3188 - val_accuracy: 0.8750 - 185ms/epoch - 3ms/step\n",
      "Epoch 24/50\n",
      "72/72 - 0s - loss: 0.3391 - accuracy: 0.8681 - val_loss: 0.3177 - val_accuracy: 0.8750 - 200ms/epoch - 3ms/step\n",
      "Epoch 25/50\n",
      "72/72 - 0s - loss: 0.3383 - accuracy: 0.8698 - val_loss: 0.3184 - val_accuracy: 0.8750 - 176ms/epoch - 2ms/step\n",
      "Epoch 26/50\n",
      "72/72 - 0s - loss: 0.3378 - accuracy: 0.8698 - val_loss: 0.3175 - val_accuracy: 0.8750 - 172ms/epoch - 2ms/step\n",
      "Epoch 27/50\n",
      "72/72 - 0s - loss: 0.3382 - accuracy: 0.8698 - val_loss: 0.3171 - val_accuracy: 0.8750 - 187ms/epoch - 3ms/step\n",
      "Epoch 28/50\n",
      "72/72 - 0s - loss: 0.3378 - accuracy: 0.8698 - val_loss: 0.3174 - val_accuracy: 0.8750 - 186ms/epoch - 3ms/step\n",
      "Epoch 29/50\n",
      "72/72 - 0s - loss: 0.3376 - accuracy: 0.8698 - val_loss: 0.3168 - val_accuracy: 0.8750 - 189ms/epoch - 3ms/step\n",
      "Epoch 30/50\n",
      "72/72 - 0s - loss: 0.3372 - accuracy: 0.8698 - val_loss: 0.3174 - val_accuracy: 0.8750 - 185ms/epoch - 3ms/step\n",
      "Epoch 31/50\n",
      "72/72 - 0s - loss: 0.3366 - accuracy: 0.8698 - val_loss: 0.3169 - val_accuracy: 0.8750 - 188ms/epoch - 3ms/step\n",
      "Epoch 32/50\n",
      "72/72 - 0s - loss: 0.3365 - accuracy: 0.8681 - val_loss: 0.3173 - val_accuracy: 0.8750 - 210ms/epoch - 3ms/step\n",
      "Epoch 33/50\n",
      "72/72 - 0s - loss: 0.3360 - accuracy: 0.8681 - val_loss: 0.3156 - val_accuracy: 0.8750 - 175ms/epoch - 2ms/step\n",
      "Epoch 34/50\n",
      "72/72 - 0s - loss: 0.3358 - accuracy: 0.8698 - val_loss: 0.3162 - val_accuracy: 0.8750 - 199ms/epoch - 3ms/step\n",
      "Epoch 35/50\n",
      "72/72 - 0s - loss: 0.3356 - accuracy: 0.8698 - val_loss: 0.3160 - val_accuracy: 0.8750 - 204ms/epoch - 3ms/step\n",
      "Epoch 36/50\n",
      "72/72 - 0s - loss: 0.3350 - accuracy: 0.8733 - val_loss: 0.3150 - val_accuracy: 0.8681 - 187ms/epoch - 3ms/step\n",
      "Epoch 37/50\n",
      "72/72 - 0s - loss: 0.3349 - accuracy: 0.8715 - val_loss: 0.3149 - val_accuracy: 0.8750 - 219ms/epoch - 3ms/step\n",
      "Epoch 38/50\n",
      "72/72 - 0s - loss: 0.3345 - accuracy: 0.8681 - val_loss: 0.3161 - val_accuracy: 0.8750 - 233ms/epoch - 3ms/step\n",
      "Epoch 39/50\n",
      "72/72 - 0s - loss: 0.3342 - accuracy: 0.8715 - val_loss: 0.3155 - val_accuracy: 0.8750 - 229ms/epoch - 3ms/step\n",
      "Epoch 40/50\n",
      "72/72 - 0s - loss: 0.3341 - accuracy: 0.8733 - val_loss: 0.3152 - val_accuracy: 0.8681 - 213ms/epoch - 3ms/step\n",
      "Epoch 41/50\n",
      "72/72 - 0s - loss: 0.3340 - accuracy: 0.8715 - val_loss: 0.3156 - val_accuracy: 0.8681 - 180ms/epoch - 2ms/step\n",
      "Epoch 42/50\n",
      "72/72 - 0s - loss: 0.3339 - accuracy: 0.8715 - val_loss: 0.3142 - val_accuracy: 0.8681 - 186ms/epoch - 3ms/step\n",
      "Epoch 43/50\n",
      "72/72 - 0s - loss: 0.3334 - accuracy: 0.8733 - val_loss: 0.3153 - val_accuracy: 0.8681 - 247ms/epoch - 3ms/step\n",
      "Epoch 44/50\n",
      "72/72 - 0s - loss: 0.3329 - accuracy: 0.8698 - val_loss: 0.3158 - val_accuracy: 0.8681 - 257ms/epoch - 4ms/step\n",
      "Epoch 45/50\n",
      "72/72 - 0s - loss: 0.3329 - accuracy: 0.8715 - val_loss: 0.3145 - val_accuracy: 0.8681 - 263ms/epoch - 4ms/step\n",
      "Epoch 46/50\n",
      "72/72 - 0s - loss: 0.3324 - accuracy: 0.8698 - val_loss: 0.3142 - val_accuracy: 0.8681 - 227ms/epoch - 3ms/step\n",
      "Epoch 47/50\n",
      "72/72 - 0s - loss: 0.3324 - accuracy: 0.8715 - val_loss: 0.3151 - val_accuracy: 0.8681 - 216ms/epoch - 3ms/step\n",
      "Epoch 48/50\n",
      "72/72 - 0s - loss: 0.3319 - accuracy: 0.8715 - val_loss: 0.3147 - val_accuracy: 0.8681 - 231ms/epoch - 3ms/step\n",
      "Epoch 49/50\n",
      "72/72 - 0s - loss: 0.3316 - accuracy: 0.8750 - val_loss: 0.3145 - val_accuracy: 0.8681 - 250ms/epoch - 3ms/step\n",
      "Epoch 50/50\n",
      "72/72 - 0s - loss: 0.3314 - accuracy: 0.8733 - val_loss: 0.3137 - val_accuracy: 0.8681 - 258ms/epoch - 4ms/step\n"
     ]
    }
   ],
   "source": [
    "# fit the keras model on the dataset \n",
    "history = model.fit(X_train, y_train, epochs=50, batch_size=8, verbose=2,validation_split=0.2)"
   ]
  },
  {
   "cell_type": "code",
   "execution_count": 21,
   "id": "7b16be39",
   "metadata": {},
   "outputs": [
    {
     "name": "stdout",
     "output_type": "stream",
     "text": [
      "Model: \"sequential\"\n",
      "_________________________________________________________________\n",
      " Layer (type)                Output Shape              Param #   \n",
      "=================================================================\n",
      " dense (Dense)               (None, 5)                 40        \n",
      "                                                                 \n",
      " dense_1 (Dense)             (None, 2)                 12        \n",
      "                                                                 \n",
      "=================================================================\n",
      "Total params: 52\n",
      "Trainable params: 52\n",
      "Non-trainable params: 0\n",
      "_________________________________________________________________\n"
     ]
    }
   ],
   "source": [
    "#view a details of the neural network built.\n",
    "model.summary()"
   ]
  },
  {
   "cell_type": "code",
   "execution_count": 22,
   "id": "e9f5b19d",
   "metadata": {},
   "outputs": [
    {
     "name": "stdout",
     "output_type": "stream",
     "text": [
      "23/23 [==============================] - 0s 4ms/step - loss: 0.3268 - accuracy: 0.8708\n"
     ]
    }
   ],
   "source": [
    "# evaluate the keras model\n",
    "accuracy = model.evaluate(X_train, y_train)"
   ]
  },
  {
   "cell_type": "code",
   "execution_count": 23,
   "id": "51e65f71",
   "metadata": {},
   "outputs": [
    {
     "name": "stdout",
     "output_type": "stream",
     "text": [
      "6/6 [==============================] - 0s 3ms/step - loss: 0.3623 - accuracy: 0.8667\n",
      "[0.36232790350914, 0.8666666746139526]\n"
     ]
    }
   ],
   "source": [
    "score = model.evaluate(X_test, y_test)\n",
    "print(score)"
   ]
  },
  {
   "cell_type": "code",
   "execution_count": 24,
   "id": "9b38a7fd",
   "metadata": {},
   "outputs": [
    {
     "data": {
      "image/png": "[encoded data removed]",
      "text/plain": [
       "<Figure size 432x288 with 1 Axes>"
      ]
     },
     "metadata": {
      "needs_background": "light"
     },
     "output_type": "display_data"
    }
   ],
   "source": [
    "# Plot accuracy model\n",
    "plt.plot(history.history['accuracy'])\n",
    "plt.plot(history.history['val_accuracy'])\n",
    "plt.title('Model accuracy')\n",
    "plt.ylabel('Accuracy')\n",
    "plt.xlabel('Epoch')\n",
    "plt.legend(['Train set accuracy', 'Validation set accuracy'], loc='lower right')\n",
    "plt.show()"
   ]
  },
  {
   "cell_type": "code",
   "execution_count": 25,
   "id": "466a87bc",
   "metadata": {},
   "outputs": [
    {
     "data": {
      "text/plain": [
       "<matplotlib.legend.Legend at 0x1149b4b77c0>"
      ]
     },
     "execution_count": 25,
     "metadata": {},
     "output_type": "execute_result"
    },
    {
     "data": {
      "image/png": "[encoded data removed]",
      "text/plain": [
       "<Figure size 432x288 with 1 Axes>"
      ]
     },
     "metadata": {
      "needs_background": "light"
     },
     "output_type": "display_data"
    }
   ],
   "source": [
    "# Plot loss model\n",
    "loss = history.history['loss']\n",
    "validation_loss = history.history['val_loss']\n",
    "\n",
    "plt.plot(loss, label='Train Set Loss')\n",
    "plt.plot(validation_loss, label='Validation Set Loss')\n",
    "plt.ylabel('Loss')\n",
    "plt.title('Training and Validation Accuracy Across Epochs')\n",
    "plt.legend()"
   ]
  },
  {
   "cell_type": "code",
   "execution_count": 26,
   "id": "ccea7015",
   "metadata": {},
   "outputs": [],
   "source": [
    "#evalute the model to check the accuracy using confusion matrix\n",
    "from sklearn.metrics import confusion_matrix, classification_report, multilabel_confusion_matrix"
   ]
  },
  {
   "cell_type": "code",
   "execution_count": 27,
   "id": "ed723a2f",
   "metadata": {},
   "outputs": [
    {
     "name": "stdout",
     "output_type": "stream",
     "text": [
      "6/6 [==============================] - 0s 4ms/step\n"
     ]
    }
   ],
   "source": [
    "# predict the model\n",
    "y_predict = model.predict(X_test)\n",
    "y_predict_s = y_predict.argmax(axis=1)\n"
   ]
  },
  {
   "cell_type": "code",
   "execution_count": 28,
   "id": "593fd04a",
   "metadata": {},
   "outputs": [
    {
     "data": {
      "image/png": "[encoded data removed]",
      "text/plain": [
       "<Figure size 432x288 with 2 Axes>"
      ]
     },
     "metadata": {
      "needs_background": "light"
     },
     "output_type": "display_data"
    }
   ],
   "source": [
    "confusion_matrix = confusion_matrix(y_test,y_predict_s)\n",
    "\n",
    "ax = sns.heatmap(confusion_matrix, cmap='flare',annot=True, fmt='d')\n",
    "\n",
    "plt.xlabel(\"Predicted Class\",fontsize=12)\n",
    "plt.ylabel(\"True Class\",fontsize=12)\n",
    "plt.title(\"Confusion Matrix\",fontsize=12)\n",
    "plt.show()"
   ]
  },
  {
   "cell_type": "code",
   "execution_count": 29,
   "id": "37661f55",
   "metadata": {},
   "outputs": [
    {
     "name": "stdout",
     "output_type": "stream",
     "text": [
      "              precision    recall  f1-score   support\n",
      "\n",
      "           0       0.84      0.90      0.87        90\n",
      "           1       0.89      0.83      0.86        90\n",
      "\n",
      "    accuracy                           0.87       180\n",
      "   macro avg       0.87      0.87      0.87       180\n",
      "weighted avg       0.87      0.87      0.87       180\n",
      "\n"
     ]
    }
   ],
   "source": [
    "# Results shows f1 score as 0.87 and 0.86 and accuracy score of 0.87\n",
    "print(classification_report(y_test,y_predict_s))"
   ]
  },
  {
   "cell_type": "code",
   "execution_count": null,
   "id": "6fb241eb",
   "metadata": {},
   "outputs": [],
   "source": []
  }
 ],
 "metadata": {
  "kernelspec": {
   "display_name": "Python 3 (ipykernel)",
   "language": "python",
   "name": "python3"
  },
  "language_info": {
   "codemirror_mode": {
    "name": "ipython",
    "version": 3
   },
   "file_extension": ".py",
   "mimetype": "text/x-python",
   "name": "python",
   "nbconvert_exporter": "python",
   "pygments_lexer": "ipython3",
   "version": "3.9.12"
  }
 },
 "nbformat": 4,
 "nbformat_minor": 5
}
